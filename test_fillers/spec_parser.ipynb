{
 "cells": [
  {
   "cell_type": "code",
   "execution_count": 1,
   "metadata": {
    "collapsed": true
   },
   "outputs": [],
   "source": [
    "import requests\n",
    "from fake_useragent import UserAgent\n",
    "from bs4 import BeautifulSoup\n",
    "\n",
    "URL = 'https://hh.ru/catalog/'\n",
    "headers = {\n",
    "    'Accept': '*/*',\n",
    "    'User-Agent': UserAgent().chrome\n",
    "}"
   ]
  },
  {
   "cell_type": "code",
   "execution_count": 15,
   "outputs": [
    {
     "name": "stdout",
     "output_type": "stream",
     "text": [
      "[<a class=\"catalog__item-link\" href=\"/catalog/avtomobilnyj-biznes\">Автомобильный бизнес</a>, <a class=\"catalog__item-link\" href=\"/catalog/administrativnyj-personal\">Административный персонал</a>, <a class=\"catalog__item-link\" href=\"/catalog/banki-investicii-lizing\">Банки, инвестиции, лизинг</a>, <a class=\"catalog__item-link\" href=\"/catalog/bezopasnost\">Безопасность</a>, <a class=\"catalog__item-link\" href=\"/catalog/buhgalterija-upravlencheskij-uchet-finansy-predprijatija\">Бухгалтерия, управленческий учет, финансы предприятия</a>, <a class=\"catalog__item-link\" href=\"/catalog/vysshij-menedzhment\">Высший менеджмент</a>, <a class=\"catalog__item-link\" href=\"/catalog/gosudarstvennaja-sluzhba-nekommercheskie-organizacii\">Государственная служба, некоммерческие организации</a>, <a class=\"catalog__item-link\" href=\"/catalog/dobycha-syrja\">Добыча сырья</a>, <a class=\"catalog__item-link\" href=\"/catalog/domashnij-personal\">Домашний персонал</a>, <a class=\"catalog__item-link\" href=\"/catalog/zakupki\">Закупки</a>, <a class=\"catalog__item-link\" href=\"/catalog/installjacija-i-servis\">Инсталляция и сервис</a>, <a class=\"catalog__item-link\" href=\"/catalog/informacionnye-tehnologii-internet-telekom\">Информационные технологии, интернет, телеком</a>, <a class=\"catalog__item-link\" href=\"/catalog/iskusstvo-razvlechenija-mass-media\">Искусство, развлечения, масс-медиа</a>, <a class=\"catalog__item-link\" href=\"/catalog/konsultirovanie\">Консультирование</a>, <a class=\"catalog__item-link\" href=\"/catalog/marketing-reklama-pr\">Маркетинг, реклама, PR</a>, <a class=\"catalog__item-link\" href=\"/catalog/medicina-farmacevtika\">Медицина, фармацевтика</a>, <a class=\"catalog__item-link\" href=\"/catalog/nauka-obrazovanie\">Наука, образование</a>, <a class=\"catalog__item-link\" href=\"/catalog/nachalo-karery-studenty\">Начало карьеры, студенты</a>, <a class=\"catalog__item-link\" href=\"/catalog/prodazhi\">Продажи</a>, <a class=\"catalog__item-link\" href=\"/catalog/proizvodstvo\">Производство, сельское хозяйство</a>, <a class=\"catalog__item-link\" href=\"/catalog/rabochij-personal\">Рабочий персонал</a>, <a class=\"catalog__item-link\" href=\"/catalog/sportivnye-kluby-fitnes-salony-krasoty\">Спортивные клубы, фитнес, салоны красоты</a>, <a class=\"catalog__item-link\" href=\"/catalog/strahovanie\">Страхование</a>, <a class=\"catalog__item-link\" href=\"/catalog/stroitelstvo-nedvizhimost\">Строительство, недвижимость</a>, <a class=\"catalog__item-link\" href=\"/catalog/transport-logistika\">Транспорт, логистика</a>, <a class=\"catalog__item-link\" href=\"/catalog/turizm-gostinicy-restorany\">Туризм, гостиницы, рестораны</a>, <a class=\"catalog__item-link\" href=\"/catalog/upravlenie-personalom-treningi\">Управление персоналом, тренинги</a>, <a class=\"catalog__item-link\" href=\"/catalog/juristy\">Юристы</a>]\n"
     ]
    }
   ],
   "source": [
    "req = requests.get(f'{URL}', headers=headers)\n",
    "soup = BeautifulSoup(req.text, parser='lxml')\n",
    "links = soup.find_all('a', class_='catalog__item-link')\n",
    "print(links)"
   ],
   "metadata": {
    "collapsed": false,
    "pycharm": {
     "name": "#%%\n"
    }
   }
  },
  {
   "cell_type": "code",
   "execution_count": 21,
   "outputs": [
    {
     "name": "stdout",
     "output_type": "stream",
     "text": [
      "/catalog/avtomobilnyj-biznes\n",
      "/catalog/administrativnyj-personal\n",
      "/catalog/banki-investicii-lizing\n",
      "/catalog/bezopasnost\n",
      "/catalog/buhgalterija-upravlencheskij-uchet-finansy-predprijatija\n",
      "/catalog/vysshij-menedzhment\n",
      "/catalog/gosudarstvennaja-sluzhba-nekommercheskie-organizacii\n",
      "/catalog/dobycha-syrja\n",
      "/catalog/domashnij-personal\n",
      "/catalog/zakupki\n",
      "/catalog/installjacija-i-servis\n",
      "/catalog/informacionnye-tehnologii-internet-telekom\n",
      "/catalog/iskusstvo-razvlechenija-mass-media\n",
      "/catalog/konsultirovanie\n",
      "/catalog/marketing-reklama-pr\n",
      "/catalog/medicina-farmacevtika\n",
      "/catalog/nauka-obrazovanie\n",
      "/catalog/nachalo-karery-studenty\n",
      "/catalog/prodazhi\n",
      "/catalog/proizvodstvo\n",
      "/catalog/rabochij-personal\n",
      "/catalog/sportivnye-kluby-fitnes-salony-krasoty\n",
      "/catalog/strahovanie\n",
      "/catalog/stroitelstvo-nedvizhimost\n",
      "/catalog/transport-logistika\n",
      "/catalog/turizm-gostinicy-restorany\n",
      "/catalog/upravlenie-personalom-treningi\n",
      "/catalog/juristy\n"
     ]
    }
   ],
   "source": [
    "specs = set()\n",
    "\n",
    "for link in links:\n",
    "    print(link.get(\"href\"))\n",
    "    req = requests.get(f'https://hh.ru{link.get(\"href\")}', headers=headers)\n",
    "    soup = BeautifulSoup(req.text, parser='lxml')\n",
    "\n",
    "    spec_links = soup.find_all('a', class_='catalog__item-link')\n",
    "    for s in spec_links:\n",
    "        specs.add(s.text)\n"
   ],
   "metadata": {
    "collapsed": false,
    "pycharm": {
     "name": "#%%\n"
    }
   }
  },
  {
   "cell_type": "code",
   "execution_count": 29,
   "outputs": [],
   "source": [
    "with open('res.txt', 'w+', encoding=\"utf-8\") as file:\n",
    "    file.write(str(specs))"
   ],
   "metadata": {
    "collapsed": false,
    "pycharm": {
     "name": "#%%\n"
    }
   }
  },
  {
   "cell_type": "code",
   "execution_count": null,
   "outputs": [],
   "source": [],
   "metadata": {
    "collapsed": false,
    "pycharm": {
     "name": "#%%\n"
    }
   }
  }
 ],
 "metadata": {
  "kernelspec": {
   "display_name": "Python 3",
   "language": "python",
   "name": "python3"
  },
  "language_info": {
   "codemirror_mode": {
    "name": "ipython",
    "version": 2
   },
   "file_extension": ".py",
   "mimetype": "text/x-python",
   "name": "python",
   "nbconvert_exporter": "python",
   "pygments_lexer": "ipython2",
   "version": "2.7.6"
  }
 },
 "nbformat": 4,
 "nbformat_minor": 0
}